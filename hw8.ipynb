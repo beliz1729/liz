{
 "cells": [
  {
   "cell_type": "code",
   "execution_count": 2,
   "metadata": {},
   "outputs": [
    {
     "ename": "SyntaxError",
     "evalue": "invalid syntax (<ipython-input-2-83f48a3a6cd5>, line 12)",
     "output_type": "error",
     "traceback": [
      "\u001b[0;36m  File \u001b[0;32m\"<ipython-input-2-83f48a3a6cd5>\"\u001b[0;36m, line \u001b[0;32m12\u001b[0m\n\u001b[0;31m    %%time\u001b[0m\n\u001b[0m    ^\u001b[0m\n\u001b[0;31mSyntaxError\u001b[0m\u001b[0;31m:\u001b[0m invalid syntax\n"
     ]
    }
   ],
   "source": [
    "import os\n",
    "from tqdm import tqdm\n",
    "from time import time\n",
    "import numpy as np\n",
    "import pandas as pd\n",
    "from sklearn.metrics import accuracy_score\n",
    "\n",
    "PATH_TO_DATA = ('D:/Anaconda/PyCharm1/')\n",
    "\n",
    "!head -1 stackoverflow.10kk.tsv\n",
    "\n",
    "%%time\n",
    "!wc -l stackoverflow.10kk.tsv"
   ]
  },
  {
   "cell_type": "code",
   "execution_count": 3,
   "metadata": {},
   "outputs": [
    {
     "ename": "SyntaxError",
     "evalue": "invalid syntax (<ipython-input-3-2ca1a981e9b1>, line 2)",
     "output_type": "error",
     "traceback": [
      "\u001b[0;36m  File \u001b[0;32m\"<ipython-input-3-2ca1a981e9b1>\"\u001b[0;36m, line \u001b[0;32m2\u001b[0m\n\u001b[0;31m    %%time\u001b[0m\n\u001b[0m    ^\u001b[0m\n\u001b[0;31mSyntaxError\u001b[0m\u001b[0;31m:\u001b[0m invalid syntax\n"
     ]
    }
   ],
   "source": [
    "!python preprocess_sof.py stackoverflow.10kk.tsv stackoverflow.vw\n",
    "%%time\n",
    "!wc -l stackoverflow.vw\n",
    "!gzip stackoverflow.10kk.tsv"
   ]
  },
  {
   "cell_type": "code",
   "execution_count": 4,
   "metadata": {},
   "outputs": [
    {
     "name": "stdout",
     "output_type": "stream",
     "text": [
      "usage: split [-a sufflen] [-b byte_count] [-l line_count] [-p pattern]\n",
      "             [file [prefix]]\n",
      "cut: stackoverflow_valid.vw: No such file or directory\n",
      "cut: stackoverflow_test.vw: No such file or directory\n",
      "sed: illegal option -- r\n",
      "usage: sed script [-Ealn] [-i extension] [file ...]\n",
      "       sed [-Ealn] [-i extension] [-e script] ... [-f script_file] ... [file ...]\n"
     ]
    }
   ],
   "source": [
    "# делим файл на 3 части по 1.463.018 строк\n",
    "# -a позволяет контролировать длину суффикса(в данном случае длина первого суффикса = 1)\n",
    "# -d позволяет использовать числовой суффикс\n",
    "!split -l 1463018 -a 1 - d stackoverflow.vw\n",
    "# на выходе получим: x0, x1, x2. P.S. переименуем их ручками.\n",
    "\n",
    "\n",
    "# векторы ответов\n",
    "!cut -c 1 stackoverflow_valid.vw > stackoverflow_valid_labels.txt\n",
    "!cut -c 1 stackoverflow_test.vw > stackoverflow_test_labels.txt\n",
    "\n",
    "#ЭТО НЕ НУЖНО, ОТВЕТЫ НЕЛЬЗЯ УДАЛЯТЬ, но код просто так на будущее\n",
    "# удаляем ответы из самих файлов(первые 4 строки), оставляя только текст\n",
    "!sed -r 's/.{4}//' stackoverflow_train.vw"
   ]
  },
  {
   "cell_type": "code",
   "execution_count": 5,
   "metadata": {},
   "outputs": [
    {
     "ename": "SyntaxError",
     "evalue": "invalid syntax (<ipython-input-5-edc4528effa4>, line 1)",
     "output_type": "error",
     "traceback": [
      "\u001b[0;36m  File \u001b[0;32m\"<ipython-input-5-edc4528effa4>\"\u001b[0;36m, line \u001b[0;32m1\u001b[0m\n\u001b[0;31m    -d 'D:/Anaconda/PyCharm1/stackoverflow_train.vw' # путь к данным\u001b[0m\n\u001b[0m                                                   ^\u001b[0m\n\u001b[0;31mSyntaxError\u001b[0m\u001b[0;31m:\u001b[0m invalid syntax\n"
     ]
    }
   ],
   "source": [
    "-d 'D:/Anaconda/PyCharm1/stackoverflow_train.vw' # путь к данным\n",
    "-f -'D:/Anaconda/PyCharm1/vw_model_Xngram_Xpasses.vw'# путь к модели\n",
    "-b 28 # бит для хэширования\n",
    "--random_seed 18 # сид\n",
    "--ngram X # Х = 1, 2, 3\n",
    "--passes X # X = 1, 3, 5\n",
    "-c # использование кэша(для passes= 3, 5)\n",
    "\n",
    "./vw -t -i 'D:/Anaconda/PyCharm1/vw_model_Xngram_Xpasses.vw' # обученная модель\n",
    "-d 'D:/Anaconda/PyCharm1/stackoverflow_valid.vw' # какую модель хотим проверить\n",
    "-p 'D:/Anaconda/PyCharm1/vw_model_1ngram_1passes_pred.csv' # куда хотим записать предсказания\n",
    "--random_seed 18\n",
    "\n",
    "%%time\n",
    "# Доля правильных ответов на отложенной выборке:\n",
    "accuracy_list = []\n",
    "for i in range(1, 4):\n",
    "    for j in range(1, 7, 2):\n",
    "        vw_pred = np.loadtxt(os.path.join(PATH_TO_DATA, 'vw_model_{}ngram_{}passes_pred.csv'.format(i, j)))\n",
    "        valid_labels = np.loadtxt(os.path.join(PATH_TO_DATA, 'stackoverflow_valid_labels.txt'))\n",
    "        score = accuracy_score(valid_labels, vw_pred)\n",
    "        accuracy_list.append(score)\n",
    "        print('Ngram =', i, 'Passes =', j, 'Accuracy =', score)\n",
    "print('Best accuracy =', max(accuracy_list))"
   ]
  },
  {
   "cell_type": "code",
   "execution_count": 6,
   "metadata": {},
   "outputs": [
    {
     "ename": "SyntaxError",
     "evalue": "invalid syntax (<ipython-input-6-8e5a412a73e7>, line 1)",
     "output_type": "error",
     "traceback": [
      "\u001b[0;36m  File \u001b[0;32m\"<ipython-input-6-8e5a412a73e7>\"\u001b[0;36m, line \u001b[0;32m1\u001b[0m\n\u001b[0;31m    ./vw -t -i 'D:/Anaconda/PyCharm1/vw_model_2ngram_1passes.vw' # обученная модель\u001b[0m\n\u001b[0m    ^\u001b[0m\n\u001b[0;31mSyntaxError\u001b[0m\u001b[0;31m:\u001b[0m invalid syntax\n"
     ]
    }
   ],
   "source": [
    "./vw -t -i 'D:/Anaconda/PyCharm1/vw_model_2ngram_1passes.vw' # обученная модель\n",
    "-d 'D:/Anaconda/PyCharm1/stackoverflow_test.vw' # какую модель хотим проверить\n",
    "-p 'D:/Anaconda/PyCharm1/vw_model_2ngram_1passes_pred_for_test.csv' # куда хотим записать предсказания\n",
    "--random_seed 18\n",
    "\n",
    "vw_test = np.loadtxt(os.path.join(PATH_TO_DATA, 'vw_model_2ngram_1passes_pred_for_test.csv'))\n",
    "test_labels = np.loadtxt(os.path.join(PATH_TO_DATA, 'stackoverflow_test_labels.txt'))\n",
    "best_accuracy_1 = accuracy_score(test_labels, vw_test)\n",
    "print(best_accuracy_1)\n",
    "\n",
    "print('Difference =', round((best_accuracy_1 - max(accuracy_list)) * 100, 3))"
   ]
  },
  {
   "cell_type": "code",
   "execution_count": 7,
   "metadata": {},
   "outputs": [
    {
     "ename": "SyntaxError",
     "evalue": "invalid syntax (<ipython-input-7-adce9d8017be>, line 5)",
     "output_type": "error",
     "traceback": [
      "\u001b[0;36m  File \u001b[0;32m\"<ipython-input-7-adce9d8017be>\"\u001b[0;36m, line \u001b[0;32m5\u001b[0m\n\u001b[0;31m    ./vw --oaa 10 -d 'D:/Anaconda/PyCharm1/stackoverflow_t_v.vw'\u001b[0m\n\u001b[0m    ^\u001b[0m\n\u001b[0;31mSyntaxError\u001b[0m\u001b[0;31m:\u001b[0m invalid syntax\n"
     ]
    }
   ],
   "source": [
    "# соеденим два файла\n",
    "!cd 'D:/Anaconda/PyCharm1/'\n",
    "!cat stackoverflow_train.vw stackoverflow_valid.vw > stackoverflow_t_v.vw\n",
    "# обучим модель на данных вдвое больше\n",
    "./vw --oaa 10 -d 'D:/Anaconda/PyCharm1/stackoverflow_t_v.vw'\n",
    "-f -'D:/Anaconda/PyCharm1/vw_best_model.vw'\n",
    "-b 28 --random_seed 18 --ngram 2 --passes 1\n",
    "# сделаем прогноз\n",
    "./vw -t -i 'D:/Anaconda/PyCharm1/vw_best_model.vw' # обученная модель\n",
    "-d 'D:/Anaconda/PyCharm1/stackoverflow_test.vw' # какую модель хотим проверить\n",
    "-p 'D:/Anaconda/PyCharm1/vw_best_model_pred_for_test.csv' # куда хотим записать предсказания\n",
    "--random_seed 18\n",
    "vw_test = np.loadtxt(os.path.join(PATH_TO_DATA, 'vw_best_model_pred_for_test.csv'))\n",
    "test_labels = np.loadtxt(os.path.join(PATH_TO_DATA, 'stackoverflow_test_labels.txt'))\n",
    "best_accuracy_2 = accuracy_score(test_labels, vw_test)\n",
    "print(best_accuracy_2)\n",
    "print('Difference =', round((best_accuracy_2 - best_accuracy_1) * 100, 3))"
   ]
  },
  {
   "cell_type": "code",
   "execution_count": null,
   "metadata": {},
   "outputs": [],
   "source": []
  }
 ],
 "metadata": {
  "kernelspec": {
   "display_name": "Python 3",
   "language": "python",
   "name": "python3"
  },
  "language_info": {
   "codemirror_mode": {
    "name": "ipython",
    "version": 3
   },
   "file_extension": ".py",
   "mimetype": "text/x-python",
   "name": "python",
   "nbconvert_exporter": "python",
   "pygments_lexer": "ipython3",
   "version": "3.6.2"
  }
 },
 "nbformat": 4,
 "nbformat_minor": 2
}
